{
  "nbformat": 4,
  "nbformat_minor": 0,
  "metadata": {
    "colab": {
      "provenance": []
    },
    "kernelspec": {
      "name": "python3",
      "display_name": "Python 3"
    },
    "language_info": {
      "name": "python"
    },
    "accelerator": "GPU",
    "gpuClass": "standard"
  },
  "cells": [
    {
      "cell_type": "code",
      "execution_count": null,
      "metadata": {
        "id": "bW6ay-LuPZHJ",
        "colab": {
          "base_uri": "https://localhost:8080/"
        },
        "outputId": "17979474-c72d-49d3-d3c6-cc8001c116b9"
      },
      "outputs": [
        {
          "output_type": "stream",
          "name": "stdout",
          "text": [
            "Mounted at /content/drive\n"
          ]
        }
      ],
      "source": [
        "from google.colab import drive\n",
        "drive.mount('/content/drive')"
      ]
    },
    {
      "cell_type": "code",
      "source": [
        "import tarfile\n",
        "import requests\n",
        "import os\n",
        "import numpy as np\n",
        "import pickle\n",
        "import keras\n",
        "import tensorflow_hub as hub\n",
        "import tensorflow"
      ],
      "metadata": {
        "id": "MXH19-sNPow9"
      },
      "execution_count": null,
      "outputs": []
    },
    {
      "cell_type": "code",
      "source": [
        "dataGenerator = keras.preprocessing.image.ImageDataGenerator(validation_split=0.3,\n",
        "                                    samplewise_center=True, fill_mode=\"nearest\",\n",
        "                                    brightness_range=[0.9,1.1])"
      ],
      "metadata": {
        "id": "BdE6aPTERDFm"
      },
      "execution_count": null,
      "outputs": []
    },
    {
      "cell_type": "markdown",
      "source": [
        "# Classifying Normal vs Malignant"
      ],
      "metadata": {
        "id": "hhV6Z7vLQkmp"
      }
    },
    {
      "cell_type": "markdown",
      "source": [
        "## Convolution"
      ],
      "metadata": {
        "id": "bPFk0dCxSu10"
      }
    },
    {
      "cell_type": "code",
      "source": [
        "def finalNet2():\n",
        "    m = keras.Sequential([\n",
        "        keras.layers.Conv2D(64, (3, 3), activation=\"tanh\", input_shape=(224, 224, 3)),\n",
        "        keras.layers.BatchNormalization(),\n",
        "        keras.layers.Activation('relu'),\n",
        "        keras.layers.MaxPooling2D(pool_size=(2, 2)),\n",
        "\n",
        "        keras.layers.Conv2D(64, (3, 3), activation='relu'),\n",
        "        keras.layers.MaxPooling2D(pool_size=(2, 2)),\n",
        "\n",
        "        keras.layers.Flatten(),\n",
        "        keras.layers.Dense(1, kernel_initializer=\"he_normal\",bias_initializer=\"he_normal\"),\n",
        "        keras.layers.BatchNormalization(),\n",
        "        keras.layers.Activation('sigmoid')\n",
        "    ])\n",
        "\n",
        "    opt = keras.optimizers.SGD(learning_rate=.01)\n",
        "    m.compile(optimizer=opt,\n",
        "                        # loss='categorical_hinge',\n",
        "                        # loss='categorical_crossentropy',\n",
        "                        loss='binary_crossentropy',\n",
        "                        metrics=['categorical_accuracy'])\n",
        "\n",
        "    return(m)"
      ],
      "metadata": {
        "id": "aIMO6O56SvI_"
      },
      "execution_count": null,
      "outputs": []
    },
    {
      "cell_type": "markdown",
      "source": [
        "## Resnet 50 Transfer"
      ],
      "metadata": {
        "id": "QtCgFlxeSc7W"
      }
    },
    {
      "cell_type": "code",
      "source": [
        "def finalNet2():\n",
        "    m = keras.Sequential([\n",
        "        # hub.KerasLayer(\"https://tfhub.dev/google/imagenet/inception_resnet_v2/feature_vector/5\", trainable=True),\n",
        "        hub.KerasLayer(\"https://tfhub.dev/tensorflow/resnet_50/feature_vector/1\", trainable=True),\n",
        "        # hub.KerasLayer(\"https://tfhub.dev/google/imagenet/inception_v3/feature_vector/5\", trainable=True),\n",
        "        # keras.layers.Dense(1024, kernel_initializer=\"he_normal\",bias_initializer=\"he_normal\"),\n",
        "        # keras.layers.BatchNormalization(),\n",
        "        # keras.layers.Activation('relu'),\n",
        "\n",
        "        #keras.layers.Dropout(0.3),\n",
        "\n",
        "        keras.layers.Dense(1, kernel_initializer=\"he_normal\",bias_initializer=\"he_normal\"),\n",
        "        keras.layers.BatchNormalization(),\n",
        "        keras.layers.Activation('sigmoid')\n",
        "    ])\n",
        "\n",
        "    opt = keras.optimizers.SGD(learning_rate=.01)\n",
        "    m.compile(optimizer=opt,\n",
        "                        # loss='categorical_hinge',\n",
        "                        # loss='categorical_crossentropy',\n",
        "                        loss='binary_crossentropy',\n",
        "                        metrics=['categorical_accuracy'])\n",
        "\n",
        "    return(m)"
      ],
      "metadata": {
        "id": "nHnYDn5vPsK-"
      },
      "execution_count": null,
      "outputs": []
    },
    {
      "cell_type": "markdown",
      "source": [
        "## Train and Test"
      ],
      "metadata": {
        "id": "ZK1pk8hESk0D"
      }
    },
    {
      "cell_type": "code",
      "source": [
        "m = finalNet2()"
      ],
      "metadata": {
        "id": "23cpF2PKP2qS"
      },
      "execution_count": null,
      "outputs": []
    },
    {
      "cell_type": "code",
      "source": [
        "train = dataGenerator.flow_from_directory(\"/content/drive/MyDrive/Lung Cancer Images\", class_mode='binary',\n",
        "                                    batch_size=32, subset=\"training\",\n",
        "                                    target_size=(224,224), classes=['malignant','normal'])\n",
        "test = dataGenerator.flow_from_directory(\"/content/drive/MyDrive/Lung Cancer Images\", class_mode='binary',\n",
        "                                    batch_size=32, subset=\"validation\",\n",
        "                                    target_size=(224,224), classes=['malignant','normal'])"
      ],
      "metadata": {
        "id": "hTr0UhT2P8Fo",
        "colab": {
          "base_uri": "https://localhost:8080/"
        },
        "outputId": "e4c62160-0c1e-4dd9-82b4-fbb1b72c6737"
      },
      "execution_count": null,
      "outputs": [
        {
          "output_type": "stream",
          "name": "stdout",
          "text": [
            "Found 685 images belonging to 2 classes.\n",
            "Found 292 images belonging to 2 classes.\n"
          ]
        }
      ]
    },
    {
      "cell_type": "code",
      "source": [
        "m.fit(train, epochs=1, validation_data=test, class_weight =\n",
        "          {\n",
        "              0: 1.35, # normal 416\n",
        "              1: 1, # malignant 561\n",
        "          })\n",
        "\n",
        "m.save('Final.h5')\n",
        "m.save('/content/drive/MyDrive/Final_resnet_2_cat.h5')"
      ],
      "metadata": {
        "id": "_r6rdbuuQTX2",
        "colab": {
          "base_uri": "https://localhost:8080/"
        },
        "outputId": "0d98fd25-f945-4130-e769-96d919200c55"
      },
      "execution_count": null,
      "outputs": [
        {
          "output_type": "stream",
          "name": "stdout",
          "text": [
            "22/22 [==============================] - 423s 19s/step - loss: 0.5135 - categorical_accuracy: 1.0000 - val_loss: 4.8992 - val_categorical_accuracy: 1.0000\n"
          ]
        }
      ]
    },
    {
      "cell_type": "markdown",
      "source": [
        "# Classifying Malignant vs Benign"
      ],
      "metadata": {
        "id": "JWUVQb0c2JjD"
      }
    },
    {
      "cell_type": "code",
      "source": [
        "def finalNet2alt():\n",
        "    m = keras.Sequential([\n",
        "        keras.layers.Conv2D(64, (3, 3), activation=\"tanh\", input_shape=(224, 224, 3)),\n",
        "        keras.layers.BatchNormalization(),\n",
        "        keras.layers.Activation('relu'),\n",
        "        keras.layers.MaxPooling2D(pool_size=(2, 2)),\n",
        "\n",
        "        keras.layers.Conv2D(64, (3, 3), activation='relu'),\n",
        "        keras.layers.MaxPooling2D(pool_size=(2, 2)),\n",
        "\n",
        "        keras.layers.Flatten(),\n",
        "        keras.layers.Dense(1, kernel_initializer=\"he_normal\",bias_initializer=\"he_normal\"),\n",
        "        keras.layers.BatchNormalization(),\n",
        "        keras.layers.Activation('sigmoid')\n",
        "    ])\n",
        "\n",
        "    opt = keras.optimizers.SGD(learning_rate=.01)\n",
        "    m.compile(optimizer=opt,\n",
        "                        # loss='categorical_hinge',\n",
        "                        # loss='categorical_crossentropy',\n",
        "                        loss='binary_crossentropy',\n",
        "                        metrics=['categorical_accuracy'])\n",
        "\n",
        "    return(m)"
      ],
      "metadata": {
        "id": "DzyGoHQc2IN6"
      },
      "execution_count": null,
      "outputs": []
    },
    {
      "cell_type": "code",
      "source": [
        "m = finalNet2alt()"
      ],
      "metadata": {
        "id": "_e217upr2PxJ"
      },
      "execution_count": null,
      "outputs": []
    },
    {
      "cell_type": "code",
      "source": [
        "train = dataGenerator.flow_from_directory(\"/content/drive/MyDrive/Lung Cancer Images\", class_mode='binary',\n",
        "                                    batch_size=32, subset=\"training\",\n",
        "                                    target_size=(224,224), classes=['benign','normal'])\n",
        "test = dataGenerator.flow_from_directory(\"/content/drive/MyDrive/Lung Cancer Images\", class_mode='binary',\n",
        "                                    batch_size=32, subset=\"validation\",\n",
        "                                    target_size=(224,224), classes=['benign','normal'])"
      ],
      "metadata": {
        "colab": {
          "base_uri": "https://localhost:8080/"
        },
        "id": "7AOCBlhP2YDY",
        "outputId": "3efa446b-0b9a-493c-a51a-92a846402c0a"
      },
      "execution_count": null,
      "outputs": [
        {
          "output_type": "stream",
          "name": "stdout",
          "text": [
            "Found 376 images belonging to 2 classes.\n",
            "Found 160 images belonging to 2 classes.\n"
          ]
        }
      ]
    },
    {
      "cell_type": "code",
      "source": [
        "m.fit(train, epochs=1, validation_data=test, class_weight =\n",
        "          {\n",
        "              0: 1, # normal 416\n",
        "              1: 4.5, # malignant 561\n",
        "          })\n",
        "\n",
        "m.save('Final.h5')\n",
        "# m.save('/content/drive/MyDrive/Final_resnet_2_cat_alt.h5')"
      ],
      "metadata": {
        "colab": {
          "base_uri": "https://localhost:8080/"
        },
        "id": "k1nka_x92cib",
        "outputId": "f2d9074a-9c72-4a10-cee7-cb40daf9a996"
      },
      "execution_count": null,
      "outputs": [
        {
          "output_type": "stream",
          "name": "stdout",
          "text": [
            "12/12 [==============================] - 160s 13s/step - loss: 1.9642 - categorical_accuracy: 1.0000 - val_loss: 3.7182 - val_categorical_accuracy: 1.0000\n"
          ]
        }
      ]
    },
    {
      "cell_type": "markdown",
      "source": [
        "# Classifying Normal vs Malignant vs Benign"
      ],
      "metadata": {
        "id": "5rJ8189rQ1lP"
      }
    },
    {
      "cell_type": "markdown",
      "source": [
        "## Convolution"
      ],
      "metadata": {
        "id": "OU86Rm6sZ1e_"
      }
    },
    {
      "cell_type": "code",
      "source": [
        "# 0.8628\n",
        "def finalNet3():\n",
        "    m = keras.Sequential([\n",
        "        keras.layers.Conv2D(64, (2, 2), activation=\"tanh\", input_shape=(224, 224, 3)),\n",
        "        keras.layers.BatchNormalization(),\n",
        "        keras.layers.Activation('relu'),\n",
        "        keras.layers.MaxPooling2D(pool_size=(2, 2)),\n",
        "\n",
        "        keras.layers.Conv2D(64, (2, 2), activation='relu'),\n",
        "        keras.layers.MaxPooling2D(pool_size=(2, 2)),\n",
        "\n",
        "        keras.layers.Flatten(),\n",
        "        keras.layers.Dense(16),\n",
        "        keras.layers.Dense(3, kernel_initializer=\"he_normal\",bias_initializer=\"he_normal\"),\n",
        "        keras.layers.BatchNormalization(),\n",
        "        keras.layers.Activation('softmax')\n",
        "    ])\n",
        "\n",
        "    #opt = keras.optimizers.SGD(learning_rate=.01)\n",
        "    m.compile(optimizer='adam',\n",
        "                        # loss='categorical_hinge',\n",
        "                        # loss='categorical_crossentropy',\n",
        "                        loss='sparse_categorical_crossentropy',\n",
        "                        metrics=['accuracy'])\n",
        "\n",
        "    return(m)"
      ],
      "metadata": {
        "id": "67MU_1V0Z160"
      },
      "execution_count": null,
      "outputs": []
    },
    {
      "cell_type": "markdown",
      "source": [
        "## Transfer Learning"
      ],
      "metadata": {
        "id": "ygKNAc2NZ2Qa"
      }
    },
    {
      "cell_type": "code",
      "source": [
        "# 85.37\n",
        "def finalNet3():\n",
        "    m = keras.Sequential([\n",
        "        # hub.KerasLayer(\"https://tfhub.dev/google/imagenet/inception_resnet_v2/feature_vector/5\", trainable=True),\n",
        "        hub.KerasLayer(\"https://tfhub.dev/tensorflow/resnet_50/feature_vector/1\", trainable=True),\n",
        "        # hub.KerasLayer(\"https://tfhub.dev/google/imagenet/inception_v3/feature_vector/5\", trainable=True),\n",
        "        # keras.layers.Dense(1024, kernel_initializer=\"he_normal\",bias_initializer=\"he_normal\"),\n",
        "        # keras.layers.BatchNormalization(),\n",
        "        # keras.layers.Activation('relu'),\n",
        "\n",
        "        #keras.layers.Dropout(0.3),\n",
        "\n",
        "        # keras.layers.Dense(2, kernel_initializer=\"he_normal\",bias_initializer=\"he_normal\"),\n",
        "        # keras.layers.BatchNormalization(),\n",
        "        # keras.layers.Activation('sigmoid')\n",
        "\n",
        "        keras.layers.Dense(3, kernel_initializer=\"he_normal\",bias_initializer=\"he_normal\"),\n",
        "        keras.layers.BatchNormalization(),\n",
        "        keras.layers.Activation('softmax')\n",
        "    ])\n",
        "\n",
        "    opt = keras.optimizers.SGD(learning_rate=.005)\n",
        "    m.compile(optimizer=opt,\n",
        "                        # loss='categorical_hinge',\n",
        "                        loss='categorical_crossentropy',\n",
        "                        metrics=['categorical_accuracy'])\n",
        "\n",
        "    return(m)"
      ],
      "metadata": {
        "id": "S_rrVLKZQ5RH"
      },
      "execution_count": null,
      "outputs": []
    },
    {
      "cell_type": "code",
      "source": [
        "# 82.53\n",
        "def finalNet3():\n",
        "    m = keras.Sequential([\n",
        "        # hub.KerasLayer(\"https://tfhub.dev/google/imagenet/inception_resnet_v2/feature_vector/5\", trainable=True),\n",
        "        hub.KerasLayer(\"https://tfhub.dev/google/imagenet/inception_resnet_v2/classification/5\", trainable=True),\n",
        "        # hub.KerasLayer(\"https://tfhub.dev/google/imagenet/inception_v3/feature_vector/5\", trainable=True),\n",
        "        # keras.layers.Dense(1024, kernel_initializer=\"he_normal\",bias_initializer=\"he_normal\"),\n",
        "        # keras.layers.BatchNormalization(),\n",
        "        # keras.layers.Activation('relu'),\n",
        "\n",
        "\n",
        "        keras.layers.Dense(3, kernel_initializer=\"he_normal\",bias_initializer=\"he_normal\"),\n",
        "        keras.layers.BatchNormalization(),\n",
        "        keras.layers.Activation('softmax')\n",
        "    ])\n",
        "\n",
        "    opt = keras.optimizers.SGD(learning_rate=.01)\n",
        "    m.compile(optimizer=opt,\n",
        "                        # loss='categorical_hinge',\n",
        "                        loss='categorical_crossentropy',\n",
        "                        metrics=['categorical_accuracy'])\n",
        "\n",
        "    return(m)"
      ],
      "metadata": {
        "id": "Fprxgu2yAcAs"
      },
      "execution_count": null,
      "outputs": []
    },
    {
      "cell_type": "code",
      "source": [
        "# 88.11\n",
        "def finalNet3():\n",
        "    m = keras.Sequential([\n",
        "        # hub.KerasLayer(\"https://tfhub.dev/google/imagenet/inception_resnet_v2/feature_vector/5\", trainable=True),\n",
        "        hub.KerasLayer(\"https://tfhub.dev/tensorflow/efficientnet/b0/classification/1\", trainable=True),\n",
        "        # hub.KerasLayer(\"https://tfhub.dev/google/imagenet/inception_v3/feature_vector/5\", trainable=True),\n",
        "        # keras.layers.Dense(1024, kernel_initializer=\"he_normal\",bias_initializer=\"he_normal\"),\n",
        "        # keras.layers.BatchNormalization(),\n",
        "        # keras.layers.Activation('relu'),\n",
        "\n",
        "\n",
        "        keras.layers.Dense(3, kernel_initializer=\"he_normal\",bias_initializer=\"he_normal\"),\n",
        "        keras.layers.BatchNormalization(),\n",
        "        keras.layers.Activation('softmax')\n",
        "    ])\n",
        "\n",
        "    opt = keras.optimizers.SGD(learning_rate=.005)\n",
        "    m.compile(optimizer=opt,\n",
        "                        # loss='categorical_hinge',\n",
        "                        loss='categorical_crossentropy',\n",
        "                        metrics=['categorical_accuracy'])\n",
        "\n",
        "    return(m)"
      ],
      "metadata": {
        "id": "llpzXKd7-Rul"
      },
      "execution_count": null,
      "outputs": []
    },
    {
      "cell_type": "code",
      "source": [
        "# 88.11\n",
        "def finalNet3():\n",
        "    m = keras.Sequential([\n",
        "        # hub.KerasLayer(\"https://tfhub.dev/google/imagenet/inception_resnet_v2/feature_vector/5\", trainable=True),\n",
        "        hub.KerasLayer(\"https://tfhub.dev/google/imagenet/efficientnet_v2_imagenet21k_xl/classification/2\", trainable=True),\n",
        "        # hub.KerasLayer(\"https://tfhub.dev/google/imagenet/inception_v3/feature_vector/5\", trainable=True),\n",
        "        # keras.layers.Dense(1024, kernel_initializer=\"he_normal\",bias_initializer=\"he_normal\"),\n",
        "        # keras.layers.BatchNormalization(),\n",
        "        # keras.layers.Activation('relu'),\n",
        "\n",
        "\n",
        "        keras.layers.Dense(3, kernel_initializer=\"he_normal\",bias_initializer=\"he_normal\"),\n",
        "        keras.layers.BatchNormalization(),\n",
        "        keras.layers.Activation('softmax')\n",
        "    ])\n",
        "\n",
        "    opt = keras.optimizers.SGD(learning_rate=.005)\n",
        "    m.compile(optimizer=opt,\n",
        "                        # loss='categorical_hinge',\n",
        "                        loss='categorical_crossentropy',\n",
        "                        metrics=['categorical_accuracy'])\n",
        "\n",
        "    return(m)"
      ],
      "metadata": {
        "id": "aWP3dpODLucy"
      },
      "execution_count": null,
      "outputs": []
    },
    {
      "cell_type": "code",
      "source": [
        "m = finalNet3()\n"
      ],
      "metadata": {
        "id": "x8jmtV2-Q89f"
      },
      "execution_count": null,
      "outputs": []
    },
    {
      "cell_type": "code",
      "source": [
        "train = dataGenerator.flow_from_directory(\"/content/drive/MyDrive/Lung Cancer Images\", class_mode='categorical',\n",
        "                                    batch_size=32, subset=\"training\",\n",
        "                                    target_size=(512,512), # target_size=(224,224),\n",
        "                                    classes=['benign','malignant','normal'])\n",
        "test = dataGenerator.flow_from_directory(\"/content/drive/MyDrive/Lung Cancer Images\", class_mode='categorical',\n",
        "                                    batch_size=32, subset=\"validation\",\n",
        "                                    target_size=(512,512), # target_size=(224,224),\n",
        "                                    classes=['benign','malignant','normal'])"
      ],
      "metadata": {
        "colab": {
          "base_uri": "https://localhost:8080/"
        },
        "id": "MVRjSUVGUEtx",
        "outputId": "172dd94a-b72a-4dd5-970d-9fb2ab7e533b"
      },
      "execution_count": null,
      "outputs": [
        {
          "output_type": "stream",
          "name": "stdout",
          "text": [
            "Found 769 images belonging to 3 classes.\n",
            "Found 328 images belonging to 3 classes.\n"
          ]
        }
      ]
    },
    {
      "cell_type": "code",
      "source": [
        "m.fit(train, epochs=5, validation_data=test, class_weight =\n",
        "          {\n",
        "              0: 1, # normal 416\n",
        "              1: 4.5, # malignant 561\n",
        "              2: 3.5 # benign 120\n",
        "          })\n",
        "\n",
        "m.save('Final.h5')\n",
        "m.save('/content/drive/MyDrive/Final_resnet_3_cat_env2.h5')"
      ],
      "metadata": {
        "colab": {
          "base_uri": "https://localhost:8080/",
          "height": 520
        },
        "id": "hAOdWnGZT9yB",
        "outputId": "ad511d0b-19af-446d-9af6-996545ef44c1"
      },
      "execution_count": null,
      "outputs": [
        {
          "output_type": "stream",
          "name": "stdout",
          "text": [
            "Epoch 1/5\n"
          ]
        },
        {
          "output_type": "error",
          "ename": "ResourceExhaustedError",
          "evalue": "ignored",
          "traceback": [
            "\u001b[0;31m---------------------------------------------------------------------------\u001b[0m",
            "\u001b[0;31mResourceExhaustedError\u001b[0m                    Traceback (most recent call last)",
            "\u001b[0;32m<ipython-input-65-806663f8ab50>\u001b[0m in \u001b[0;36m<module>\u001b[0;34m\u001b[0m\n\u001b[0;32m----> 1\u001b[0;31m m.fit(train, epochs=5, validation_data=test, class_weight = \n\u001b[0m\u001b[1;32m      2\u001b[0m           {\n\u001b[1;32m      3\u001b[0m               \u001b[0;36m0\u001b[0m\u001b[0;34m:\u001b[0m \u001b[0;36m1\u001b[0m\u001b[0;34m,\u001b[0m \u001b[0;31m# normal 416\u001b[0m\u001b[0;34m\u001b[0m\u001b[0;34m\u001b[0m\u001b[0m\n\u001b[1;32m      4\u001b[0m               \u001b[0;36m1\u001b[0m\u001b[0;34m:\u001b[0m \u001b[0;36m4.5\u001b[0m\u001b[0;34m,\u001b[0m \u001b[0;31m# malignant 561\u001b[0m\u001b[0;34m\u001b[0m\u001b[0;34m\u001b[0m\u001b[0m\n\u001b[1;32m      5\u001b[0m               \u001b[0;36m2\u001b[0m\u001b[0;34m:\u001b[0m \u001b[0;36m3.5\u001b[0m \u001b[0;31m# benign 120\u001b[0m\u001b[0;34m\u001b[0m\u001b[0;34m\u001b[0m\u001b[0m\n",
            "\u001b[0;32m/usr/local/lib/python3.8/dist-packages/keras/utils/traceback_utils.py\u001b[0m in \u001b[0;36merror_handler\u001b[0;34m(*args, **kwargs)\u001b[0m\n\u001b[1;32m     65\u001b[0m     \u001b[0;32mexcept\u001b[0m \u001b[0mException\u001b[0m \u001b[0;32mas\u001b[0m \u001b[0me\u001b[0m\u001b[0;34m:\u001b[0m  \u001b[0;31m# pylint: disable=broad-except\u001b[0m\u001b[0;34m\u001b[0m\u001b[0;34m\u001b[0m\u001b[0m\n\u001b[1;32m     66\u001b[0m       \u001b[0mfiltered_tb\u001b[0m \u001b[0;34m=\u001b[0m \u001b[0m_process_traceback_frames\u001b[0m\u001b[0;34m(\u001b[0m\u001b[0me\u001b[0m\u001b[0;34m.\u001b[0m\u001b[0m__traceback__\u001b[0m\u001b[0;34m)\u001b[0m\u001b[0;34m\u001b[0m\u001b[0;34m\u001b[0m\u001b[0m\n\u001b[0;32m---> 67\u001b[0;31m       \u001b[0;32mraise\u001b[0m \u001b[0me\u001b[0m\u001b[0;34m.\u001b[0m\u001b[0mwith_traceback\u001b[0m\u001b[0;34m(\u001b[0m\u001b[0mfiltered_tb\u001b[0m\u001b[0;34m)\u001b[0m \u001b[0;32mfrom\u001b[0m \u001b[0;32mNone\u001b[0m\u001b[0;34m\u001b[0m\u001b[0;34m\u001b[0m\u001b[0m\n\u001b[0m\u001b[1;32m     68\u001b[0m     \u001b[0;32mfinally\u001b[0m\u001b[0;34m:\u001b[0m\u001b[0;34m\u001b[0m\u001b[0;34m\u001b[0m\u001b[0m\n\u001b[1;32m     69\u001b[0m       \u001b[0;32mdel\u001b[0m \u001b[0mfiltered_tb\u001b[0m\u001b[0;34m\u001b[0m\u001b[0;34m\u001b[0m\u001b[0m\n",
            "\u001b[0;32m/usr/local/lib/python3.8/dist-packages/tensorflow/python/eager/execute.py\u001b[0m in \u001b[0;36mquick_execute\u001b[0;34m(op_name, num_outputs, inputs, attrs, ctx, name)\u001b[0m\n\u001b[1;32m     52\u001b[0m   \u001b[0;32mtry\u001b[0m\u001b[0;34m:\u001b[0m\u001b[0;34m\u001b[0m\u001b[0;34m\u001b[0m\u001b[0m\n\u001b[1;32m     53\u001b[0m     \u001b[0mctx\u001b[0m\u001b[0;34m.\u001b[0m\u001b[0mensure_initialized\u001b[0m\u001b[0;34m(\u001b[0m\u001b[0;34m)\u001b[0m\u001b[0;34m\u001b[0m\u001b[0;34m\u001b[0m\u001b[0m\n\u001b[0;32m---> 54\u001b[0;31m     tensors = pywrap_tfe.TFE_Py_Execute(ctx._handle, device_name, op_name,\n\u001b[0m\u001b[1;32m     55\u001b[0m                                         inputs, attrs, num_outputs)\n\u001b[1;32m     56\u001b[0m   \u001b[0;32mexcept\u001b[0m \u001b[0mcore\u001b[0m\u001b[0;34m.\u001b[0m\u001b[0m_NotOkStatusException\u001b[0m \u001b[0;32mas\u001b[0m \u001b[0me\u001b[0m\u001b[0;34m:\u001b[0m\u001b[0;34m\u001b[0m\u001b[0;34m\u001b[0m\u001b[0m\n",
            "\u001b[0;31mResourceExhaustedError\u001b[0m: Graph execution error:\n\nfailed to allocate memory\n\t [[{{node Sigmoid}}]]\nHint: If you want to see a list of allocated tensors when OOM happens, add report_tensor_allocations_upon_oom to RunOptions for current allocation info. This isn't available when running in Eager mode.\n [Op:__inference_train_function_772859]"
          ]
        }
      ]
    },
    {
      "cell_type": "markdown",
      "source": [
        "# Types of Malignant"
      ],
      "metadata": {
        "id": "V1-XntufPdDB"
      }
    },
    {
      "cell_type": "code",
      "source": [
        "def finalNet4():\n",
        "    m = keras.Sequential([\n",
        "        hub.KerasLayer(\"https://tfhub.dev/tensorflow/efficientnet/b0/classification/1\", trainable=True),\n",
        "\n",
        "        keras.layers.Dense(4, kernel_initializer=\"he_normal\",bias_initializer=\"he_normal\"),\n",
        "        keras.layers.BatchNormalization(),\n",
        "        keras.layers.Activation('softmax')\n",
        "    ])\n",
        "\n",
        "    opt = keras.optimizers.SGD(learning_rate=.1)\n",
        "    m.compile(optimizer=opt,\n",
        "                        loss='categorical_crossentropy',\n",
        "                        metrics=['categorical_accuracy'])\n",
        "\n",
        "    return(m)"
      ],
      "metadata": {
        "id": "MBSso7jYVV1F"
      },
      "execution_count": null,
      "outputs": []
    },
    {
      "cell_type": "code",
      "source": [
        "# 85.37\n",
        "def finalNet4():\n",
        "    m = keras.Sequential([\n",
        "        hub.KerasLayer(\"https://tfhub.dev/tensorflow/resnet_50/feature_vector/1\", trainable=True),\n",
        "\n",
        "        keras.layers.Dense(4, kernel_initializer=\"he_normal\",bias_initializer=\"he_normal\"),\n",
        "        keras.layers.BatchNormalization(),\n",
        "        keras.layers.Activation('softmax')\n",
        "    ])\n",
        "\n",
        "    opt = keras.optimizers.SGD(learning_rate=.1)\n",
        "    m.compile(optimizer=opt,\n",
        "                        # loss='categorical_hinge',\n",
        "                        loss='categorical_crossentropy',\n",
        "                        metrics=['categorical_accuracy'])\n",
        "\n",
        "    return(m)"
      ],
      "metadata": {
        "id": "dZ3rt1M4P-IV"
      },
      "execution_count": null,
      "outputs": []
    },
    {
      "cell_type": "code",
      "source": [
        "m = finalNet4()"
      ],
      "metadata": {
        "id": "Q1wZ1c-xQIY-"
      },
      "execution_count": null,
      "outputs": []
    },
    {
      "cell_type": "code",
      "source": [
        "train = dataGenerator.flow_from_directory(\"/content/drive/MyDrive/CT Scan\", class_mode='categorical',\n",
        "                                    batch_size=32, subset=\"training\",\n",
        "                                    target_size=(224,224),\n",
        "                                    classes=['ac','lcc','normal','scc'])\n",
        "test = dataGenerator.flow_from_directory(\"/content/drive/MyDrive/CT Scan\", class_mode='categorical',\n",
        "                                    batch_size=32, subset=\"validation\",\n",
        "                                    target_size=(224,224),\n",
        "                                    classes=['ac','lcc','normal','scc'])"
      ],
      "metadata": {
        "colab": {
          "base_uri": "https://localhost:8080/"
        },
        "id": "NBZgaiH_QUQx",
        "outputId": "9fe6559a-bc0a-42f0-d413-b6f15b46a77c"
      },
      "execution_count": null,
      "outputs": [
        {
          "output_type": "stream",
          "name": "stdout",
          "text": [
            "Found 431 images belonging to 4 classes.\n",
            "Found 182 images belonging to 4 classes.\n"
          ]
        }
      ]
    },
    {
      "cell_type": "code",
      "source": [
        "m.fit(train, epochs=20, validation_data=test, class_weight =\n",
        "          {\n",
        "              0: 2, # normal 416\n",
        "              1: 1, # malignant 561\n",
        "              2: 1.5, # benign 120\n",
        "              3: 1.5\n",
        "          })\n",
        "\n",
        "m.save('Final.h5')\n",
        "m.save('/content/drive/MyDrive/Final_resnet_4_cat_rn.h5')"
      ],
      "metadata": {
        "colab": {
          "base_uri": "https://localhost:8080/"
        },
        "id": "oVITKZwYQXSk",
        "outputId": "fe3efda1-fe6d-4ff2-f5cd-c3e1f18f40f1"
      },
      "execution_count": null,
      "outputs": [
        {
          "output_type": "stream",
          "name": "stdout",
          "text": [
            "Epoch 1/20\n",
            "14/14 [==============================] - 19s 508ms/step - loss: 2.2003 - categorical_accuracy: 0.3828 - val_loss: 1.7522 - val_categorical_accuracy: 0.1868\n",
            "Epoch 2/20\n",
            "14/14 [==============================] - 6s 381ms/step - loss: 1.7074 - categorical_accuracy: 0.5197 - val_loss: 1.6935 - val_categorical_accuracy: 0.1868\n",
            "Epoch 3/20\n",
            "14/14 [==============================] - 6s 395ms/step - loss: 1.5399 - categorical_accuracy: 0.5476 - val_loss: 1.6511 - val_categorical_accuracy: 0.1868\n",
            "Epoch 4/20\n",
            "14/14 [==============================] - 6s 383ms/step - loss: 1.4224 - categorical_accuracy: 0.6032 - val_loss: 1.6317 - val_categorical_accuracy: 0.1868\n",
            "Epoch 5/20\n",
            "14/14 [==============================] - 6s 383ms/step - loss: 1.2456 - categorical_accuracy: 0.6961 - val_loss: 1.5719 - val_categorical_accuracy: 0.1978\n",
            "Epoch 6/20\n",
            "14/14 [==============================] - 6s 380ms/step - loss: 1.0109 - categorical_accuracy: 0.7193 - val_loss: 1.5411 - val_categorical_accuracy: 0.2747\n",
            "Epoch 7/20\n",
            "14/14 [==============================] - 6s 405ms/step - loss: 1.1052 - categorical_accuracy: 0.7030 - val_loss: 1.5186 - val_categorical_accuracy: 0.3352\n",
            "Epoch 8/20\n",
            "14/14 [==============================] - 6s 387ms/step - loss: 0.7865 - categorical_accuracy: 0.8469 - val_loss: 1.4705 - val_categorical_accuracy: 0.3846\n",
            "Epoch 9/20\n",
            "14/14 [==============================] - 6s 384ms/step - loss: 0.6129 - categorical_accuracy: 0.8817 - val_loss: 1.3844 - val_categorical_accuracy: 0.4725\n",
            "Epoch 10/20\n",
            "14/14 [==============================] - 6s 385ms/step - loss: 0.5870 - categorical_accuracy: 0.9142 - val_loss: 1.3854 - val_categorical_accuracy: 0.4835\n",
            "Epoch 11/20\n",
            "14/14 [==============================] - 5s 379ms/step - loss: 0.5180 - categorical_accuracy: 0.9420 - val_loss: 1.3030 - val_categorical_accuracy: 0.6758\n",
            "Epoch 12/20\n",
            "14/14 [==============================] - 6s 413ms/step - loss: 0.3932 - categorical_accuracy: 0.9722 - val_loss: 1.3044 - val_categorical_accuracy: 0.6538\n",
            "Epoch 13/20\n",
            "14/14 [==============================] - 6s 385ms/step - loss: 0.4318 - categorical_accuracy: 0.9629 - val_loss: 1.1702 - val_categorical_accuracy: 0.7747\n",
            "Epoch 14/20\n",
            "14/14 [==============================] - 6s 386ms/step - loss: 0.6334 - categorical_accuracy: 0.9049 - val_loss: 1.3629 - val_categorical_accuracy: 0.5000\n",
            "Epoch 15/20\n",
            "14/14 [==============================] - 6s 388ms/step - loss: 0.6017 - categorical_accuracy: 0.9072 - val_loss: 1.4846 - val_categorical_accuracy: 0.3901\n",
            "Epoch 16/20\n",
            "14/14 [==============================] - 6s 385ms/step - loss: 0.4113 - categorical_accuracy: 0.9629 - val_loss: 1.3947 - val_categorical_accuracy: 0.4396\n",
            "Epoch 17/20\n",
            "14/14 [==============================] - 6s 410ms/step - loss: 0.3899 - categorical_accuracy: 0.9675 - val_loss: 1.2961 - val_categorical_accuracy: 0.5055\n",
            "Epoch 18/20\n",
            "14/14 [==============================] - 6s 384ms/step - loss: 0.3274 - categorical_accuracy: 0.9814 - val_loss: 1.2165 - val_categorical_accuracy: 0.6264\n",
            "Epoch 19/20\n",
            "14/14 [==============================] - 6s 381ms/step - loss: 0.5013 - categorical_accuracy: 0.9304 - val_loss: 1.4725 - val_categorical_accuracy: 0.3516\n",
            "Epoch 20/20\n",
            "14/14 [==============================] - 8s 564ms/step - loss: 0.3469 - categorical_accuracy: 0.9745 - val_loss: 1.3691 - val_categorical_accuracy: 0.4725\n"
          ]
        }
      ]
    },
    {
      "cell_type": "code",
      "source": [],
      "metadata": {
        "id": "5fU6SpixQ0jl"
      },
      "execution_count": null,
      "outputs": []
    }
  ]
}